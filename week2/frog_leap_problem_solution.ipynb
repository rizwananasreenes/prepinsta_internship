{
  "nbformat": 4,
  "nbformat_minor": 0,
  "metadata": {
    "colab": {
      "provenance": []
    },
    "kernelspec": {
      "name": "python3",
      "display_name": "Python 3"
    },
    "language_info": {
      "name": "python"
    }
  },
  "cells": [
    {
      "cell_type": "markdown",
      "source": [
        "# Problem statement\n",
        "\n",
        "Create famous 'Frog leap' puzzle game. Try completing the game before starting to get an idea about its working.\n",
        "[Demonstration](https://www.neok12.com/games/leap-froggies/leap-froggies.htm).\n",
        "\n",
        "\n",
        "### Rules ###\n",
        "1. The left set of frogs can only move right, the right set of frogs can only move left.\n",
        "2. Frogs can move forward one space, or move two spaces by jumping over another frog from opposite side.\n",
        "3. The puzzle is solved when the two sets of frogs have switched positions.\n",
        "\n",
        "\n",
        "## Steps to solve the problem:\n",
        "### Step1:-\n",
        "- Display green and brown frogs on the left and right sides initially.\n",
        "\n",
        "Initial Display :-  \n",
        "```\n",
        "[ 0 ,  1 ,  2 ,  3 ,  4 ,  5 ,  6 ]\n",
        "['G', 'G', 'G', '-', 'B', 'B', 'B']\n",
        "```\n",
        "<br>\n",
        "Here 'G' represents Green frogs on the left side and 'B' represents brown frogs on the right side. The '-' defines the position of empty leaf.\n",
        "(You can change display according to your imagination or convinience)\n",
        "\n",
        "### Step2:-\n",
        "Accept positions of the frog that you want to move.<br>\n",
        "Example: If we enter position 2 then the game will look like this:-\n",
        "```\n",
        "[ 0 ,  1 ,  2 ,  3 ,  4 ,  5 ,  6 ]\n",
        "['G', 'G', '-', 'G', 'B', 'B', 'B']\n",
        "```\n",
        "\n",
        "### Step3:- ###\n",
        "Define Invalid moves and add conditional 'if' statements accordingly\n",
        "#### Rules\n",
        "1. Entered position should be between 0 to 6. Or a character 'q' to quit the game.\n",
        "2. Entered position cannot be the position of empty leaf.\n",
        "3. If the selected frog position cannot perform the contraints given in rule 2 then the move is invalid.\n",
        "\n",
        "### Step4:-\n",
        "Make the appropriate move by changing the game display."
      ],
      "metadata": {
        "id": "jf1PuwFngYmP"
      }
    },
    {
      "cell_type": "markdown",
      "source": [
        "## Step 1\n",
        "First create a list `positions` which contains the characters 'G','B' and '-' in the same sequence as given in the initial display state."
      ],
      "metadata": {
        "id": "uDnXxA7jgkLf"
      }
    },
    {
      "cell_type": "code",
      "execution_count": 3,
      "metadata": {
        "id": "3QVwWDnwgVZ1"
      },
      "outputs": [],
      "source": [
        "positions = ['G','G','G','-','B','B','B']"
      ]
    },
    {
      "cell_type": "markdown",
      "source": [
        "Now print this string ```[ 0 ,  1 ,  2 ,  3 ,  4 ,  5 ,  6 ]``` and after that print the list `positions`"
      ],
      "metadata": {
        "id": "fQQ_e7NBhGNI"
      }
    },
    {
      "cell_type": "code",
      "source": [
        "print(\"[ 0 ,  1 ,  2 ,  3 ,  4 ,  5 ,  6 ]\")\n",
        "print(positions)"
      ],
      "metadata": {
        "colab": {
          "base_uri": "https://localhost:8080/"
        },
        "id": "-W5y5P4bhRQS",
        "outputId": "142b0760-599f-4de1-e59c-5a327364e5c1"
      },
      "execution_count": 4,
      "outputs": [
        {
          "output_type": "stream",
          "name": "stdout",
          "text": [
            "[ 0 ,  1 ,  2 ,  3 ,  4 ,  5 ,  6 ]\n",
            "['G', 'G', 'G', '-', 'B', 'B', 'B']\n"
          ]
        }
      ]
    },
    {
      "cell_type": "markdown",
      "source": [
        "Take position input from user and write a message as `\"Press q to quit else \\nEnter position of piece:\"`."
      ],
      "metadata": {
        "id": "i61L67CFhohs"
      }
    },
    {
      "cell_type": "code",
      "source": [
        "move = input(\"Press q to quit else \\nEnter position of piece:\")"
      ],
      "metadata": {
        "colab": {
          "base_uri": "https://localhost:8080/"
        },
        "id": "ACCSw9Feh2xi",
        "outputId": "e82ff77e-807c-4628-ee5d-1d15838b417f"
      },
      "execution_count": 5,
      "outputs": [
        {
          "name": "stdout",
          "output_type": "stream",
          "text": [
            "Press q to quit else \n",
            "Enter position of piece:2\n"
          ]
        }
      ]
    },
    {
      "cell_type": "markdown",
      "source": [
        "::Now the taken input is in string format. So first check if the input is `'q'` character. If input is `'q'` then the person is quiting the game so print `'You Lose'`."
      ],
      "metadata": {
        "id": "A1QJUJGmh71h"
      }
    },
    {
      "cell_type": "code",
      "source": [
        "move = input(\"Press q to quit else \\nEnter position of piece:\")\n",
        "if move == 'q':\n",
        "  print('You Lose')"
      ],
      "metadata": {
        "colab": {
          "base_uri": "https://localhost:8080/"
        },
        "id": "yRXfBeBXiGc5",
        "outputId": "97c701db-82e9-4535-a2a1-4662666d8772"
      },
      "execution_count": 6,
      "outputs": [
        {
          "name": "stdout",
          "output_type": "stream",
          "text": [
            "Press q to quit else \n",
            "Enter position of piece:2\n"
          ]
        }
      ]
    },
    {
      "cell_type": "markdown",
      "source": [
        "Next if input character is not `'q'` then it has to be some integer. so convert input to integer format."
      ],
      "metadata": {
        "id": "N9jbTn3tiNy8"
      }
    },
    {
      "cell_type": "code",
      "source": [
        "if move != 'q':\n",
        "  selected_position = int(move)\n",
        "  print(type(selected_position))"
      ],
      "metadata": {
        "colab": {
          "base_uri": "https://localhost:8080/"
        },
        "id": "uQ9qTwKsiQ-O",
        "outputId": "6e42db50-cf15-4b3a-f9b6-9f6b1788a228"
      },
      "execution_count": 7,
      "outputs": [
        {
          "output_type": "stream",
          "name": "stdout",
          "text": [
            "<class 'int'>\n"
          ]
        }
      ]
    },
    {
      "cell_type": "markdown",
      "source": [
        "## Step 2\n",
        "Now we have to check validity of the selected positions or move.<br>\n",
        "If the entered number isn't between 0 and 6, then print 'Invalid move'."
      ],
      "metadata": {
        "id": "eYZPXX9UiUkw"
      }
    },
    {
      "cell_type": "code",
      "source": [
        "if selected_position < 0 or selected_position > 6:\n",
        "  print('Invalid move')"
      ],
      "metadata": {
        "id": "cvD3Vw_VifN7"
      },
      "execution_count": 8,
      "outputs": []
    },
    {
      "cell_type": "markdown",
      "source": [
        "A frog should be present on the selected position to make a move. If leaf is selected then it doesn't make sense. Therefore, if entered postition is same as the postition of empty leaf then the move is invalid and print `Invalid Move`"
      ],
      "metadata": {
        "id": "ulBM81_jik0Q"
      }
    },
    {
      "cell_type": "code",
      "source": [
        "if positions[selected_position] == '-':\n",
        "        print('Invalid Move')"
      ],
      "metadata": {
        "id": "XihJCMZyioXo"
      },
      "execution_count": 9,
      "outputs": []
    },
    {
      "cell_type": "markdown",
      "source": [
        "Initialize a variable named `pos2` at value 0, to store the index of empty leaf, so that we can use it later."
      ],
      "metadata": {
        "id": "O2LGWayliqL3"
      }
    },
    {
      "cell_type": "code",
      "source": [
        "pos2=0\n",
        "print(type(pos2))"
      ],
      "metadata": {
        "colab": {
          "base_uri": "https://localhost:8080/"
        },
        "id": "madTlOxNiujt",
        "outputId": "39ef4008-f1e1-468a-ca95-c68fd057e95b"
      },
      "execution_count": 10,
      "outputs": [
        {
          "output_type": "stream",
          "name": "stdout",
          "text": [
            "<class 'int'>\n"
          ]
        }
      ]
    },
    {
      "cell_type": "markdown",
      "source": [
        "```   \n",
        "    Check if the selected frog is 'G':\n",
        "  \n",
        "        (Inside if when it's 'G'. As 'G' is selected frog can move to right only.)\n",
        "        \n",
        "        ❗condition 1\n",
        "\n",
        "        If **selected_position + 1** is less than or equal to 6 and **curent_position + 1** contains '-'\n",
        "        then it's a valid move and store that postion in `pos2`.\n",
        "        \n",
        "        ❗condition2\n",
        "\n",
        "        Else if **selected_position + 2** is less than or equal to 6 and if **current_position + 2**\n",
        "        contains '-' and if **selected_position + 1** contains 'B' then it's a valid move  and store that postion in `pos2`.\n",
        "        \n",
        "        ❗condition3:\n",
        "\n",
        "        Else remainig all are invalid, so print `Invalid Move`\n",
        "      \n",
        "```"
      ],
      "metadata": {
        "id": "-DJhFw17iy9s"
      }
    },
    {
      "cell_type": "code",
      "source": [
        "if positions[selected_position] == 'G':\n",
        "            if selected_position + 1 <= 6 and positions[selected_position + 1] == '-':\n",
        "                pos2 = selected_position + 1\n",
        "            elif selected_position + 2 <= 6 and positions[selected_position + 2] == '-' and positions[selected_position + 1] == 'B':\n",
        "                pos2 = selected_position + 2\n",
        "            else:\n",
        "                print('Invalid Move')"
      ],
      "metadata": {
        "id": "iL9ZqCuri4AD"
      },
      "execution_count": 11,
      "outputs": []
    },
    {
      "cell_type": "markdown",
      "source": [
        "```\n",
        "    Check if the selected frog is 'B':\n",
        "    \n",
        "        (Inside if when it's 'B'. As 'B' is selected frog can move to left only.)\n",
        "        \n",
        "        ❗condition1:\n",
        "\n",
        "        If **selected_position - 1** is more than or equal to 0 and **curent_position - 1** contains '-' then\n",
        "        it's a valid move and and store that postion in `pos2`.\n",
        "        \n",
        "        ❗condition2:\n",
        "\n",
        "        Else if **selected_position - 2** is more than or equal to 0 and if **current_position - 2** contains '-'\n",
        "        and if **selected_position - 1** contains 'G' then it's a valid move and and store that postion in `pos2`.\n",
        "\n",
        "        ❗condition3:\n",
        "        \n",
        "        Else remainig all are invalid,, so print `Invalid Move`.\n",
        "        \n",
        "```"
      ],
      "metadata": {
        "id": "dEOSl_bJi_89"
      }
    },
    {
      "cell_type": "code",
      "source": [
        "if positions[selected_position] == 'B':  # If the selected frog is 'B'\n",
        "            if selected_position - 1 >= 0 and positions[selected_position - 1] == '-':\n",
        "                pos2 = selected_position - 1\n",
        "            elif selected_position - 2 >= 0 and positions[selected_position - 2] == '-' and positions[selected_position - 1] == 'G':\n",
        "                pos2 = selected_position - 2\n",
        "            else:\n",
        "                print('Invalid Move')"
      ],
      "metadata": {
        "id": "KGBPMHt_jEEF"
      },
      "execution_count": 12,
      "outputs": []
    },
    {
      "cell_type": "markdown",
      "source": [
        "Swap the element at selected positions and calculated position2 in the list.<br> So basically we are moving the frog to next valid position by swapping elelments of array."
      ],
      "metadata": {
        "id": "Nn_yz_ygjIgN"
      }
    },
    {
      "cell_type": "code",
      "source": [
        "positions[selected_position], positions[pos2] = positions[pos2], positions[selected_position]"
      ],
      "metadata": {
        "id": "3zs4z31gjLWo"
      },
      "execution_count": 13,
      "outputs": []
    },
    {
      "cell_type": "markdown",
      "source": [
        "Now print the display of the game again to see the change.<br>\n",
        "If we enter position 2 then the output will look like this:-\n",
        "```\n",
        "[ 0 ,  1 ,  2 ,  3 ,  4 ,  5 ,  6 ]\n",
        "['G', 'G', '-', 'G', 'B', 'B', 'B']\n",
        "```"
      ],
      "metadata": {
        "id": "grRSJvMmjPr_"
      }
    },
    {
      "cell_type": "code",
      "source": [
        "print(\"[ 0 ,  1 ,  2 ,  3 ,  4 ,  5 ,  6 ]\")\n",
        "print(positions)"
      ],
      "metadata": {
        "colab": {
          "base_uri": "https://localhost:8080/"
        },
        "id": "GN8qN110jR8z",
        "outputId": "8778c9bc-1137-4cc4-960c-f7b32b16668a"
      },
      "execution_count": 14,
      "outputs": [
        {
          "output_type": "stream",
          "name": "stdout",
          "text": [
            "[ 0 ,  1 ,  2 ,  3 ,  4 ,  5 ,  6 ]\n",
            "['G', 'G', '-', 'G', 'B', 'B', 'B']\n"
          ]
        }
      ]
    },
    {
      "cell_type": "markdown",
      "source": [
        "Check for winning condition by comparing the elements of list. If player has won the game print `'You Win'`"
      ],
      "metadata": {
        "id": "T3N1KU5tjVQl"
      }
    },
    {
      "cell_type": "code",
      "source": [
        "if positions == ['B', 'B', 'B', '-', 'G', 'G', 'G']:\n",
        "  print(positions)\n",
        "print('You Win!')"
      ],
      "metadata": {
        "colab": {
          "base_uri": "https://localhost:8080/"
        },
        "id": "bgnQCL-jjYZA",
        "outputId": "ff38817b-adf8-4792-9324-bcaa38da79dc"
      },
      "execution_count": 15,
      "outputs": [
        {
          "output_type": "stream",
          "name": "stdout",
          "text": [
            "You Win!\n"
          ]
        }
      ]
    },
    {
      "cell_type": "markdown",
      "source": [
        "Now the game should keep running until the player quits, so place all conditional statements inside an infinite loop.<br>\n",
        "\n",
        "1. We have to `'break'` the loop if the player presses `'q'` and quits.\n",
        "\n",
        "2. If the move made by player is `'Invalid Move'` then we have to `'continue'` without executing remaining part of the selected iteration.\n",
        "\n",
        "3. If player wins the game we have to `break` the loop.\n",
        "\n",
        "\n",
        "```\n",
        "Infinite loop:\n",
        "    (inside loop)\n",
        "    1.Take input\n",
        "    2.Check all valid and invalid conditions of `pos`.\n",
        "    3.Make the appropriate move by calculating `pos2`.\n",
        "    4.Display game\n",
        "    4.Check winning condition\n",
        "```"
      ],
      "metadata": {
        "id": "10OKupgAjbC6"
      }
    },
    {
      "cell_type": "code",
      "source": [
        "print(\"[ 0 ,  1 ,  2 ,  3 ,  4 ,  5 ,  6 ]\")\n",
        "positions = ['G', 'G', 'G', '-', 'B', 'B', 'B']\n",
        "while True:\n",
        "        print(positions)\n",
        "        # step1\n",
        "        move = input(\"Press q to quit else \\nEnter position of piece: \")\n",
        "\n",
        "\n",
        "        if move == 'q':\n",
        "            print('You Lose')\n",
        "            break\n",
        "\n",
        "\n",
        "        selected_position = int(move)\n",
        "\n",
        "        #step2\n",
        "        if selected_position < 0 or selected_position > 6:\n",
        "            print('Invalid move')\n",
        "            continue\n",
        "\n",
        "\n",
        "        if positions[selected_position] == '-':\n",
        "            print('Invalid Move')\n",
        "            continue\n",
        "\n",
        "         #step3\n",
        "        pos2 = 0\n",
        "\n",
        "        if positions[selected_position] == 'G':\n",
        "            if selected_position + 1 <= 6 and positions[selected_position + 1] == '-':\n",
        "                pos2 = selected_position + 1\n",
        "            elif selected_position + 2 <= 6 and positions[selected_position + 2] == '-' and positions[selected_position + 1] == 'B':\n",
        "                pos2 = selected_position + 2\n",
        "            else:\n",
        "                print('Invalid Move')\n",
        "                continue\n",
        "        elif positions[selected_position] == 'B':\n",
        "            if selected_position - 1 >= 0 and positions[selected_position - 1] == '-':\n",
        "                pos2 = selected_position - 1\n",
        "            elif selected_position - 2 >= 0 and positions[selected_position - 2] == '-' and positions[selected_position - 1] == 'G':\n",
        "                pos2 = selected_position - 2\n",
        "            else:\n",
        "                print('Invalid Move')\n",
        "                continue\n",
        "\n",
        "        #step4\n",
        "        positions[selected_position], positions[pos2] = positions[pos2], positions[selected_position]\n",
        "\n",
        "        #step5\n",
        "        if positions == ['B', 'B', 'B', '-', 'G', 'G', 'G']:\n",
        "            print(positions)\n",
        "            print('You Win!')\n",
        "            break\n",
        "        if positions == ['G', 'G', 'G', 'B', 'B', 'B', '-'] or positions == ['-', 'G', 'G', 'G', 'B', 'B', 'B']:\n",
        "            print(positions)\n",
        "            print('OOPs you lose. No more moves.')\n",
        "            break"
      ],
      "metadata": {
        "colab": {
          "base_uri": "https://localhost:8080/"
        },
        "id": "BqUVnGYljewa",
        "outputId": "7c7bb17b-3444-4a37-dc4e-6451c9e11aff"
      },
      "execution_count": 16,
      "outputs": [
        {
          "output_type": "stream",
          "name": "stdout",
          "text": [
            "[ 0 ,  1 ,  2 ,  3 ,  4 ,  5 ,  6 ]\n",
            "['G', 'G', 'G', '-', 'B', 'B', 'B']\n",
            "Press q to quit else \n",
            "Enter position of piece: 2\n",
            "['G', 'G', '-', 'G', 'B', 'B', 'B']\n",
            "Press q to quit else \n",
            "Enter position of piece: 1\n",
            "['G', '-', 'G', 'G', 'B', 'B', 'B']\n",
            "Press q to quit else \n",
            "Enter position of piece: 0\n",
            "['-', 'G', 'G', 'G', 'B', 'B', 'B']\n",
            "OOPs you lose. No more moves.\n"
          ]
        }
      ]
    }
  ]
}